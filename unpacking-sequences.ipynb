{
 "metadata": {
  "kernelspec": {
   "language": "python",
   "display_name": "Python 3",
   "name": "python3"
  },
  "language_info": {
   "pygments_lexer": "ipython3",
   "nbconvert_exporter": "python",
   "version": "3.6.4",
   "file_extension": ".py",
   "codemirror_mode": {
    "name": "ipython",
    "version": 3
   },
   "name": "python",
   "mimetype": "text/x-python"
  }
 },
 "nbformat_minor": 4,
 "nbformat": 4,
 "cells": [
  {
   "cell_type": "markdown",
   "source": [
    "**Problem**\n",
    "You have an N-element tuple or sequence that you would like to unpack into a collection\n",
    "of N variables.\n",
    "\n",
    "**Solution**\n",
    "Any sequence (or iterable) can be unpacked into variables using a simple assignment\n",
    "operation. The only requirement is that the number of variables and structure match\n",
    "the sequence. "
   ],
   "metadata": {
    "_uuid": "8f2839f25d086af736a60e9eeb907d3b93b6e0e5",
    "_cell_guid": "b1076dfc-b9ad-4769-8c92-a6c4dae69d19",
    "pycharm": {
     "name": "#%% md\n"
    }
   }
  },
  {
   "cell_type": "code",
   "source": [
    "p = (4, 5)\n",
    "x, y = p\n",
    "print(x)\n",
    "print(y)"
   ],
   "metadata": {
    "execution": {
     "iopub.status.busy": "2022-06-30T16:29:53.510386Z",
     "iopub.execute_input": "2022-06-30T16:29:53.510861Z",
     "iopub.status.idle": "2022-06-30T16:29:53.516963Z",
     "shell.execute_reply.started": "2022-06-30T16:29:53.510802Z",
     "shell.execute_reply": "2022-06-30T16:29:53.515944Z"
    },
    "trusted": true,
    "pycharm": {
     "name": "#%%\n",
     "is_executing": true
    }
   },
   "execution_count": null,
   "outputs": []
  },
  {
   "cell_type": "code",
   "source": [
    "data = [ 'ACME', 50, 91.1, (2012, 12, 21) ]\n",
    "name, shares, price, (year, mon, day) = data\n",
    "print(name)\n",
    "print(shares)\n",
    "print(price)\n",
    "print(year)\n",
    "print(mon)\n",
    "print(day)"
   ],
   "metadata": {
    "execution": {
     "iopub.status.busy": "2022-06-30T12:50:29.45362Z",
     "iopub.execute_input": "2022-06-30T12:50:29.454053Z",
     "iopub.status.idle": "2022-06-30T12:50:29.461241Z",
     "shell.execute_reply.started": "2022-06-30T12:50:29.454019Z",
     "shell.execute_reply": "2022-06-30T12:50:29.459962Z"
    },
    "trusted": true,
    "pycharm": {
     "name": "#%%\n"
    }
   },
   "execution_count": null,
   "outputs": []
  },
  {
   "cell_type": "markdown",
   "source": [
    "Unpacking actually works with any object that happens to be iterable, not just tuples or\n",
    "lists. This includes strings, files, iterators, and generators. "
   ],
   "metadata": {
    "pycharm": {
     "name": "#%% md\n"
    }
   }
  },
  {
   "cell_type": "code",
   "source": [
    "s = 'Hello'\n",
    "a, b, c, d, e = s\n",
    "print(a, b, c, d, e)"
   ],
   "metadata": {
    "execution": {
     "iopub.status.busy": "2022-06-30T13:05:29.395487Z",
     "iopub.execute_input": "2022-06-30T13:05:29.395884Z",
     "iopub.status.idle": "2022-06-30T13:05:29.40249Z",
     "shell.execute_reply.started": "2022-06-30T13:05:29.395854Z",
     "shell.execute_reply": "2022-06-30T13:05:29.401407Z"
    },
    "trusted": true,
    "pycharm": {
     "name": "#%%\n"
    }
   },
   "execution_count": null,
   "outputs": []
  },
  {
   "cell_type": "markdown",
   "source": [
    "When unpacking, you may sometimes want to discard certain values. Python has no\n",
    "special syntax for this, but you can often just pick a throwaway variable name for it."
   ],
   "metadata": {
    "pycharm": {
     "name": "#%% md\n"
    }
   }
  },
  {
   "cell_type": "code",
   "source": [
    "data = [ 'ACME', 50, 91.1, (2012, 12, 21) ]\n",
    "_, shares, price, _ = data\n",
    "print(shares, price)"
   ],
   "metadata": {
    "execution": {
     "iopub.status.busy": "2022-06-30T13:18:11.37839Z",
     "iopub.execute_input": "2022-06-30T13:18:11.378802Z",
     "iopub.status.idle": "2022-06-30T13:18:11.385255Z",
     "shell.execute_reply.started": "2022-06-30T13:18:11.378771Z",
     "shell.execute_reply": "2022-06-30T13:18:11.383738Z"
    },
    "trusted": true,
    "pycharm": {
     "name": "#%%\n"
    }
   },
   "execution_count": null,
   "outputs": []
  },
  {
   "cell_type": "markdown",
   "source": [
    "**Problem**\n",
    "You need to unpack N elements from an iterable, but the iterable may be longer than N\n",
    "elements, causing a “too many values to unpack” exception.\n",
    "\n",
    "**Solution**\n",
    "Python “star expressions” can be used to address this problem."
   ],
   "metadata": {
    "pycharm": {
     "name": "#%% md\n"
    }
   }
  },
  {
   "cell_type": "code",
   "source": [
    "user_record = ('Dave', 'dave@example.com', '773-555-1212', '847-555-1212')\n",
    "name, email, *phone_numbers = user_record\n",
    "print(name)\n",
    "print(email)\n",
    "print(phone_numbers)"
   ],
   "metadata": {
    "execution": {
     "iopub.status.busy": "2022-06-30T15:26:38.642002Z",
     "iopub.execute_input": "2022-06-30T15:26:38.642406Z",
     "iopub.status.idle": "2022-06-30T15:26:38.649363Z",
     "shell.execute_reply.started": "2022-06-30T15:26:38.642372Z",
     "shell.execute_reply": "2022-06-30T15:26:38.648002Z"
    },
    "trusted": true,
    "pycharm": {
     "name": "#%%\n"
    }
   },
   "execution_count": null,
   "outputs": []
  },
  {
   "cell_type": "code",
   "source": [
    "user_record = ('Dave', '773-555-1212', '847-555-1212', 'dave@example.com', )\n",
    "name, *phone_numbers, email = user_record\n",
    "print(name)\n",
    "print(email)\n",
    "print(phone_numbers)"
   ],
   "metadata": {
    "execution": {
     "iopub.status.busy": "2022-06-30T15:27:24.63441Z",
     "iopub.execute_input": "2022-06-30T15:27:24.63484Z",
     "iopub.status.idle": "2022-06-30T15:27:24.640718Z",
     "shell.execute_reply.started": "2022-06-30T15:27:24.634801Z",
     "shell.execute_reply": "2022-06-30T15:27:24.639782Z"
    },
    "trusted": true,
    "pycharm": {
     "name": "#%%\n"
    }
   },
   "execution_count": null,
   "outputs": []
  },
  {
   "cell_type": "code",
   "source": [
    "*trailing, current = [10, 8, 7, 1, 9, 5, 10, 3]\n",
    "print(trailing)\n",
    "print(current)"
   ],
   "metadata": {
    "execution": {
     "iopub.status.busy": "2022-06-30T15:37:07.185782Z",
     "iopub.execute_input": "2022-06-30T15:37:07.186162Z",
     "iopub.status.idle": "2022-06-30T15:37:07.192875Z",
     "shell.execute_reply.started": "2022-06-30T15:37:07.186133Z",
     "shell.execute_reply": "2022-06-30T15:37:07.191926Z"
    },
    "trusted": true,
    "pycharm": {
     "name": "#%%\n"
    }
   },
   "execution_count": null,
   "outputs": []
  },
  {
   "cell_type": "markdown",
   "source": [
    "It is worth noting that the star syntax can be especially useful when iterating over a\n",
    "sequence of tuples of varying length. "
   ],
   "metadata": {
    "pycharm": {
     "name": "#%% md\n"
    }
   }
  },
  {
   "cell_type": "code",
   "source": [
    "records = [\n",
    "('foo', 1, 2),\n",
    "('bar', 'hello'),\n",
    "('foo', 3, 4),\n",
    "]\n",
    "\n",
    "def do_foo(x, y):\n",
    "    print('foo', x, y)\n",
    "    \n",
    "def do_bar(s):\n",
    "    print('bar', s)\n",
    "    \n",
    "for tag, *args in records:\n",
    "    if tag == 'foo':\n",
    "        do_foo(*args)\n",
    "    elif tag == 'bar':\n",
    "        do_bar(*args)"
   ],
   "metadata": {
    "execution": {
     "iopub.status.busy": "2022-06-30T15:57:09.810818Z",
     "iopub.execute_input": "2022-06-30T15:57:09.811183Z",
     "iopub.status.idle": "2022-06-30T15:57:09.818363Z",
     "shell.execute_reply.started": "2022-06-30T15:57:09.811154Z",
     "shell.execute_reply": "2022-06-30T15:57:09.817565Z"
    },
    "trusted": true,
    "pycharm": {
     "name": "#%%\n"
    }
   },
   "execution_count": null,
   "outputs": []
  },
  {
   "cell_type": "markdown",
   "source": [
    "Star unpacking can also be useful when combined with certain kinds of string processing\n",
    "operations, such as splitting. "
   ],
   "metadata": {
    "pycharm": {
     "name": "#%% md\n"
    }
   }
  },
  {
   "cell_type": "code",
   "source": [
    "line = 'nobody:*:-2:-2:Unprivileged User:/var/empty:/usr/bin/false'\n",
    "uname, *fields, homedir, sh = line.split(':')\n",
    "print(uname)\n",
    "print(fields)\n",
    "print(homedir)\n",
    "print(sh)"
   ],
   "metadata": {
    "execution": {
     "iopub.status.busy": "2022-06-30T16:03:09.738822Z",
     "iopub.execute_input": "2022-06-30T16:03:09.739193Z",
     "iopub.status.idle": "2022-06-30T16:03:09.745805Z",
     "shell.execute_reply.started": "2022-06-30T16:03:09.739162Z",
     "shell.execute_reply": "2022-06-30T16:03:09.744972Z"
    },
    "trusted": true,
    "pycharm": {
     "name": "#%%\n"
    }
   },
   "execution_count": null,
   "outputs": []
  },
  {
   "cell_type": "markdown",
   "source": [
    "Sometimes you might want to unpack values and throw them away. You can’t just specify\n",
    "a bare * when unpacking, but you could use a common throwaway variable name, such\n",
    "as _ or ign (ignored). "
   ],
   "metadata": {
    "pycharm": {
     "name": "#%% md\n"
    }
   }
  },
  {
   "cell_type": "code",
   "source": [
    "record = ('ACME', 50, 123.45, (12, 18, 2012))\n",
    "name, *_, (*_, year) = record\n",
    "print(name)\n",
    "print(year)"
   ],
   "metadata": {
    "execution": {
     "iopub.status.busy": "2022-06-30T16:11:13.471334Z",
     "iopub.execute_input": "2022-06-30T16:11:13.471725Z",
     "iopub.status.idle": "2022-06-30T16:11:13.47911Z",
     "shell.execute_reply.started": "2022-06-30T16:11:13.47168Z",
     "shell.execute_reply": "2022-06-30T16:11:13.477744Z"
    },
    "trusted": true,
    "pycharm": {
     "name": "#%%\n"
    }
   },
   "execution_count": null,
   "outputs": []
  },
  {
   "cell_type": "markdown",
   "source": [
    "There is a certain similarity between star unpacking and list-processing features of var‐\n",
    "ious functional languages. For example, if you have a list, you can easily split it into head\n",
    "and tail components like this:"
   ],
   "metadata": {
    "pycharm": {
     "name": "#%% md\n"
    }
   }
  },
  {
   "cell_type": "markdown",
   "source": [],
   "metadata": {
    "pycharm": {
     "name": "#%% md\n"
    }
   }
  }
 ]
}